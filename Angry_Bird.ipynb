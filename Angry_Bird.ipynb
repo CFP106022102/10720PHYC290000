{
 "cells": [
  {
   "cell_type": "code",
   "execution_count": null,
   "metadata": {},
   "outputs": [],
   "source": [
    "#target location\n",
    "import numpy as np\n",
    "import math\n",
    "import matplotlib .pyplot as plt\n",
    "\n",
    "x = np.random.random(1)\n",
    "y = np.random.random(1)\n",
    "\n",
    "plt.plot(x,y,'.')\n",
    "\n",
    "\n",
    "#get v0 and degree\n",
    "\n",
    "v0 = int(input(\"initial velocity:\"))\n",
    "d = int((float(input(\"degree:\"))/360)*2*math.pi)\n",
    "\n",
    "#the curve\n",
    "t = np.linspace(0, 4, 100)\n",
    "x2 = v0*math.cos(d)*t\n",
    "y2 = (v0*math.sin(d)-(9.8*t))*t\n",
    "\n",
    "\n",
    "plt.plot(x2,y2)\n",
    "plt.show()\n",
    "\n",
    "#if \n",
    "if x/(v0*math.cos(d)) == (-v0*math.sin(d)+((v0**2)*(math.sin(d)**2)-4*9.8*y))/2*9.8 or x/(v0*math.cos(d)) == (-v0*math.sin(d)-(v0**2*math.sin(d)**2-4*9.8*y))/2*9.8:\n",
    "\n",
    "    print (1)\n",
    "\n",
    "else:\n",
    " \n",
    "    print (0)"
   ]
  },
  {
   "cell_type": "code",
   "execution_count": null,
   "metadata": {},
   "outputs": [],
   "source": [
    "%matplotlib inline\n",
    "import matplotlib.image as mpimg\n",
    "im = mpimg.imread('P1120107.JPG')\\\n",
    "\n",
    "import matplotlib.pyplot as plt\n",
    "plt.imshow(im)"
   ]
  },
  {
   "cell_type": "code",
   "execution_count": null,
   "metadata": {},
   "outputs": [],
   "source": []
  }
 ],
 "metadata": {
  "kernelspec": {
   "display_name": "Python 3",
   "language": "python",
   "name": "python3"
  },
  "language_info": {
   "codemirror_mode": {
    "name": "ipython",
    "version": 3
   },
   "file_extension": ".py",
   "mimetype": "text/x-python",
   "name": "python",
   "nbconvert_exporter": "python",
   "pygments_lexer": "ipython3",
   "version": "3.7.1"
  }
 },
 "nbformat": 4,
 "nbformat_minor": 2
}


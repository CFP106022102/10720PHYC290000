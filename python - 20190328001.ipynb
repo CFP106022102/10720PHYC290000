{
 "cells": [
  {
   "cell_type": "code",
   "execution_count": null,
   "metadata": {},
   "outputs": [],
   "source": [
    "fp = open('Alice.txt','r')\n",
    "\n",
    "#Read the firts line from the file\n",
    "line = fp.readline()\n",
    "print(line)\n",
    "print(type(line))\n",
    "\n",
    "#Read the next line(space)\n",
    "line = fp.readline()\n",
    "print(line)\n",
    "\n",
    "s = line.split()\n",
    "print(s)\n",
    "print(type(s))\n",
    "\n",
    "fp.close"
   ]
  },
  {
   "cell_type": "code",
   "execution_count": null,
   "metadata": {},
   "outputs": [],
   "source": [
    "fp = open('Alice.txt','r',encoding='UTF-8')\n",
    "x=2\n",
    "\n",
    "while x>1 :\n",
    " line = fp.readline()\n",
    " print(line)\n",
    "    \n",
    "fp.close\n"
   ]
  },
  {
   "cell_type": "code",
   "execution_count": null,
   "metadata": {},
   "outputs": [],
   "source": [
    "fp = open('Alice.txt','r',encoding='UTF-8')\n",
    "x=2\n",
    "\n",
    "for x>1 :\n",
    " line = fp.readline()\n",
    " print(line)\n",
    "    \n",
    "#####"
   ]
  },
  {
   "cell_type": "code",
   "execution_count": null,
   "metadata": {},
   "outputs": [],
   "source": [
    "fp=open('Alice.txt','r',encoding='UTF-8')\n",
    "wordcount={}\n",
    "for word in fp.read().split():\n",
    "    if word not in wordcount:\n",
    "        wordcount[word] = 1\n",
    "    else:\n",
    "        wordcount[word] += 1\n",
    "print (word,wordcount)\n",
    "fp.close();"
   ]
  },
  {
   "cell_type": "code",
   "execution_count": null,
   "metadata": {},
   "outputs": [],
   "source": [
    "fp = open('Alice.txt','r',encoding='UTF-8')\n",
    "dicti = {}\n",
    "line = fp.readline()\n",
    "\n",
    "while line:\n",
    " s = line.split()\n",
    " for word in s:\n",
    "    if word in dicti:\n",
    "        dicti[word] += 1\n",
    "    else:\n",
    "        dicti[word] = 1\n",
    "        \n",
    "print(word,dicti)\n",
    "\n",
    "#####"
   ]
  },
  {
   "cell_type": "code",
   "execution_count": null,
   "metadata": {},
   "outputs": [],
   "source": [
    "num=[]\n",
    "\n",
    "for key in my_dic:\n",
    "    num.append(my_dic[key])\n",
    "    \n",
    "print(len(num))\n",
    "num.sort()\n",
    "num.reverse()"
   ]
  },
  {
   "cell_type": "code",
   "execution_count": null,
   "metadata": {},
   "outputs": [],
   "source": []
  }
 ],
 "metadata": {
  "kernelspec": {
   "display_name": "Python 3",
   "language": "python",
   "name": "python3"
  },
  "language_info": {
   "codemirror_mode": {
    "name": "ipython",
    "version": 3
   },
   "file_extension": ".py",
   "mimetype": "text/x-python",
   "name": "python",
   "nbconvert_exporter": "python",
   "pygments_lexer": "ipython3",
   "version": "3.7.1"
  }
 },
 "nbformat": 4,
 "nbformat_minor": 2
}
